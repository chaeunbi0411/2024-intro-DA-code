{
 "cells": [
  {
   "cell_type": "code",
   "execution_count": 1,
   "metadata": {
    "colab": {
     "base_uri": "https://localhost:8080/",
     "height": 36
    },
    "executionInfo": {
     "elapsed": 403,
     "status": "ok",
     "timestamp": 1703741557403,
     "user": {
      "displayName": "강환수",
      "userId": "09996343890795599635"
     },
     "user_tz": -540
    },
    "id": "SYWnvY0chpPn",
    "outputId": "5a4d4ec6-0766-4840-821c-20f1d714fc0b"
   },
   "outputs": [
    {
     "name": "stdout",
     "output_type": "stream",
     "text": [
      "3.12.4 | packaged by Anaconda, Inc. | (main, Jun 18 2024, 15:03:56) [MSC v.1929 64 bit (AMD64)]\n",
      "win32\n"
     ]
    }
   ],
   "source": [
    "import sys\n",
    "print(sys.version)\n",
    "print(sys.platform)"
   ]
  },
  {
   "cell_type": "code",
   "execution_count": 2,
   "metadata": {
    "colab": {
     "base_uri": "https://localhost:8080/"
    },
    "executionInfo": {
     "elapsed": 282,
     "status": "ok",
     "timestamp": 1703741603854,
     "user": {
      "displayName": "강환수",
      "userId": "09996343890795599635"
     },
     "user_tz": -540
    },
    "id": "BBlDDjta6Qde",
    "outputId": "9dd5eaef-a1cd-4234-bff3-8196426c7f7c"
   },
   "outputs": [
    {
     "data": {
      "text/plain": [
       "['d:\\\\ProgramData\\\\anaconda3_240601',\n",
       " 'd:\\\\ProgramData\\\\anaconda3_240601\\\\Lib\\\\site-packages']"
      ]
     },
     "execution_count": 2,
     "metadata": {},
     "output_type": "execute_result"
    }
   ],
   "source": [
    "import site\n",
    "site.getsitepackages()"
   ]
  },
  {
   "cell_type": "code",
   "execution_count": 3,
   "metadata": {
    "colab": {
     "base_uri": "https://localhost:8080/",
     "height": 36
    },
    "executionInfo": {
     "elapsed": 293,
     "status": "ok",
     "timestamp": 1703741875661,
     "user": {
      "displayName": "강환수",
      "userId": "09996343890795599635"
     },
     "user_tz": -540
    },
    "id": "Wp9plyU96b1E",
    "outputId": "f936e190-2ae8-405e-bd42-fbdc88753da7"
   },
   "outputs": [
    {
     "data": {
      "text/plain": [
       "'1.26.4'"
      ]
     },
     "execution_count": 3,
     "metadata": {},
     "output_type": "execute_result"
    }
   ],
   "source": [
    "import numpy as np\n",
    "\n",
    "np.__version__"
   ]
  },
  {
   "cell_type": "code",
   "execution_count": 4,
   "metadata": {
    "colab": {
     "base_uri": "https://localhost:8080/",
     "height": 36
    },
    "executionInfo": {
     "elapsed": 277,
     "status": "ok",
     "timestamp": 1703742027773,
     "user": {
      "displayName": "강환수",
      "userId": "09996343890795599635"
     },
     "user_tz": -540
    },
    "id": "rVt7sa7d7eLj",
    "outputId": "02ae56cc-3c20-4654-db66-a6fe64291ae1"
   },
   "outputs": [
    {
     "data": {
      "text/plain": [
       "'3.8.4'"
      ]
     },
     "execution_count": 4,
     "metadata": {},
     "output_type": "execute_result"
    }
   ],
   "source": [
    "import matplotlib as mpl\n",
    "\n",
    "mpl.__version__"
   ]
  },
  {
   "cell_type": "code",
   "execution_count": 5,
   "metadata": {
    "id": "-05ksIR98DVL"
   },
   "outputs": [
    {
     "data": {
      "text/plain": [
       "'1.26.4'"
      ]
     },
     "execution_count": 5,
     "metadata": {},
     "output_type": "execute_result"
    }
   ],
   "source": [
    "import numpy as np\n",
    "\n",
    "np.__version__"
   ]
  },
  {
   "cell_type": "markdown",
   "metadata": {
    "id": "6cBfD79LAKir"
   },
   "source": [
    "## 데이터 시각화 준비\n",
    "- 그림을 선명하게\n",
    "- 모듈 설치 koreanize-matplotlib\n",
    "  - [참조 사이트](https://github.com/ychoi-kr/koreanize-matplotlib)\n",
    "- 필요 패키지 import\n",
    "\n"
   ]
  },
  {
   "cell_type": "code",
   "execution_count": 6,
   "metadata": {
    "executionInfo": {
     "elapsed": 304,
     "status": "ok",
     "timestamp": 1703743744943,
     "user": {
      "displayName": "강환수",
      "userId": "09996343890795599635"
     },
     "user_tz": -540
    },
    "id": "VNTOl2apCfXn"
   },
   "outputs": [],
   "source": [
    "# 1. 그림을 선명하게\n",
    "%config InlineBackend.figure_format = 'retina'"
   ]
  },
  {
   "cell_type": "code",
   "execution_count": 8,
   "metadata": {
    "colab": {
     "base_uri": "https://localhost:8080/"
    },
    "executionInfo": {
     "elapsed": 10169,
     "status": "ok",
     "timestamp": 1703743798179,
     "user": {
      "displayName": "강환수",
      "userId": "09996343890795599635"
     },
     "user_tz": -540
    },
    "id": "KUPq4qY8Cm-W",
    "outputId": "bf1ef336-ebeb-4b10-ee12-18cbf3c352fe"
   },
   "outputs": [
    {
     "name": "stdout",
     "output_type": "stream",
     "text": [
      "Collecting koreanize-matplotlib\n",
      "  Downloading koreanize_matplotlib-0.1.1-py3-none-any.whl (7.9 MB)\n",
      "\u001b[2K     \u001b[90m━━━━━━━━━━━━━━━━━━━━━━━━━━━━━━━━━━━━━━━━\u001b[0m \u001b[32m7.9/7.9 MB\u001b[0m \u001b[31m19.5 MB/s\u001b[0m eta \u001b[36m0:00:00\u001b[0m\n",
      "\u001b[?25hRequirement already satisfied: matplotlib in /usr/local/lib/python3.10/dist-packages (from koreanize-matplotlib) (3.7.1)\n",
      "Requirement already satisfied: contourpy>=1.0.1 in /usr/local/lib/python3.10/dist-packages (from matplotlib->koreanize-matplotlib) (1.2.0)\n",
      "Requirement already satisfied: cycler>=0.10 in /usr/local/lib/python3.10/dist-packages (from matplotlib->koreanize-matplotlib) (0.12.1)\n",
      "Requirement already satisfied: fonttools>=4.22.0 in /usr/local/lib/python3.10/dist-packages (from matplotlib->koreanize-matplotlib) (4.46.0)\n",
      "Requirement already satisfied: kiwisolver>=1.0.1 in /usr/local/lib/python3.10/dist-packages (from matplotlib->koreanize-matplotlib) (1.4.5)\n",
      "Requirement already satisfied: numpy>=1.20 in /usr/local/lib/python3.10/dist-packages (from matplotlib->koreanize-matplotlib) (1.23.5)\n",
      "Requirement already satisfied: packaging>=20.0 in /usr/local/lib/python3.10/dist-packages (from matplotlib->koreanize-matplotlib) (23.2)\n",
      "Requirement already satisfied: pillow>=6.2.0 in /usr/local/lib/python3.10/dist-packages (from matplotlib->koreanize-matplotlib) (9.4.0)\n",
      "Requirement already satisfied: pyparsing>=2.3.1 in /usr/local/lib/python3.10/dist-packages (from matplotlib->koreanize-matplotlib) (3.1.1)\n",
      "Requirement already satisfied: python-dateutil>=2.7 in /usr/local/lib/python3.10/dist-packages (from matplotlib->koreanize-matplotlib) (2.8.2)\n",
      "Requirement already satisfied: six>=1.5 in /usr/local/lib/python3.10/dist-packages (from python-dateutil>=2.7->matplotlib->koreanize-matplotlib) (1.16.0)\n",
      "Installing collected packages: koreanize-matplotlib\n",
      "Successfully installed koreanize-matplotlib-0.1.1\n"
     ]
    }
   ],
   "source": [
    "# 2. colab 사용: 한글을 위한 모듈 설치 koreanize-matplotlib\n",
    "!pip install koreanize-matplotlib"
   ]
  },
  {
   "cell_type": "code",
   "execution_count": 9,
   "metadata": {
    "executionInfo": {
     "elapsed": 321,
     "status": "ok",
     "timestamp": 1703743910434,
     "user": {
      "displayName": "강환수",
      "userId": "09996343890795599635"
     },
     "user_tz": -540
    },
    "id": "e6PWCjt_DHB-"
   },
   "outputs": [],
   "source": [
    "# 3. 필요 패키지 import\n",
    "\n",
    "import koreanize_matplotlib # for colab"
   ]
  },
  {
   "cell_type": "code",
   "execution_count": 10,
   "metadata": {
    "colab": {
     "base_uri": "https://localhost:8080/",
     "height": 450
    },
    "executionInfo": {
     "elapsed": 1061,
     "status": "ok",
     "timestamp": 1703744198602,
     "user": {
      "displayName": "강환수",
      "userId": "09996343890795599635"
     },
     "user_tz": -540
    },
    "id": "tyjrDOlaBGyt",
    "outputId": "52d77dfe-de56-4ce3-f81c-b36b267bc599"
   },
   "outputs": [
    {
     "data": {
      "image/png": "[encoded data removed]",
      "text/plain": [
       "<Figure size 640x480 with 1 Axes>"
      ]
     },
     "metadata": {
      "image/png": {
       "height": 435,
       "width": 540
      }
     },
     "output_type": "display_data"
    }
   ],
   "source": [
    "import matplotlib.pyplot as plt\n",
    "\n",
    "plt.title('데이터 시각화의 한글 준비와 기본 직선 그래프')\n",
    "plt.plot([10, 5, 20, 30])\n",
    "plt.show()"
   ]
  },
  {
   "cell_type": "code",
   "execution_count": 12,
   "metadata": {
    "colab": {
     "base_uri": "https://localhost:8080/",
     "height": 957
    },
    "executionInfo": {
     "elapsed": 331,
     "status": "ok",
     "timestamp": 1703745892503,
     "user": {
      "displayName": "강환수",
      "userId": "09996343890795599635"
     },
     "user_tz": -540
    },
    "id": "wdFpWHozJ5eW",
    "outputId": "33f7830f-0b2d-427e-972e-499c4c388afc"
   },
   "outputs": [
    {
     "data": {
      "text/html": [
       "<div>\n",
       "<style scoped>\n",
       "    .dataframe tbody tr th:only-of-type {\n",
       "        vertical-align: middle;\n",
       "    }\n",
       "\n",
       "    .dataframe tbody tr th {\n",
       "        vertical-align: top;\n",
       "    }\n",
       "\n",
       "    .dataframe thead th {\n",
       "        text-align: right;\n",
       "    }\n",
       "</style>\n",
       "<table border=\"1\" class=\"dataframe\">\n",
       "  <thead>\n",
       "    <tr style=\"text-align: right;\">\n",
       "      <th></th>\n",
       "      <th>2023년11월_총인구수</th>\n",
       "      <th>2023년11월_세대수</th>\n",
       "      <th>2023년11월_세대당 인구</th>\n",
       "      <th>2023년11월_남자 인구수</th>\n",
       "      <th>2023년11월_여자 인구수</th>\n",
       "      <th>2023년11월_남여 비율</th>\n",
       "    </tr>\n",
       "    <tr>\n",
       "      <th>행정구역</th>\n",
       "      <th></th>\n",
       "      <th></th>\n",
       "      <th></th>\n",
       "      <th></th>\n",
       "      <th></th>\n",
       "      <th></th>\n",
       "    </tr>\n",
       "  </thead>\n",
       "  <tbody>\n",
       "    <tr>\n",
       "      <th>전국  (1000000000)</th>\n",
       "      <td>51337076</td>\n",
       "      <td>23904793</td>\n",
       "      <td>2.15</td>\n",
       "      <td>25572695</td>\n",
       "      <td>25764381</td>\n",
       "      <td>0.99</td>\n",
       "    </tr>\n",
       "    <tr>\n",
       "      <th>서울특별시  (1100000000)</th>\n",
       "      <td>9390925</td>\n",
       "      <td>4469374</td>\n",
       "      <td>2.10</td>\n",
       "      <td>4543055</td>\n",
       "      <td>4847870</td>\n",
       "      <td>0.94</td>\n",
       "    </tr>\n",
       "    <tr>\n",
       "      <th>부산광역시  (2600000000)</th>\n",
       "      <td>3295496</td>\n",
       "      <td>1564199</td>\n",
       "      <td>2.11</td>\n",
       "      <td>1606680</td>\n",
       "      <td>1688816</td>\n",
       "      <td>0.95</td>\n",
       "    </tr>\n",
       "    <tr>\n",
       "      <th>대구광역시  (2700000000)</th>\n",
       "      <td>2376044</td>\n",
       "      <td>1093499</td>\n",
       "      <td>2.17</td>\n",
       "      <td>1167480</td>\n",
       "      <td>1208564</td>\n",
       "      <td>0.97</td>\n",
       "    </tr>\n",
       "    <tr>\n",
       "      <th>인천광역시  (2800000000)</th>\n",
       "      <td>2993492</td>\n",
       "      <td>1347984</td>\n",
       "      <td>2.22</td>\n",
       "      <td>1497231</td>\n",
       "      <td>1496261</td>\n",
       "      <td>1.00</td>\n",
       "    </tr>\n",
       "    <tr>\n",
       "      <th>광주광역시  (2900000000)</th>\n",
       "      <td>1420822</td>\n",
       "      <td>655552</td>\n",
       "      <td>2.17</td>\n",
       "      <td>701645</td>\n",
       "      <td>719177</td>\n",
       "      <td>0.98</td>\n",
       "    </tr>\n",
       "    <tr>\n",
       "      <th>대전광역시  (3000000000)</th>\n",
       "      <td>1443106</td>\n",
       "      <td>680226</td>\n",
       "      <td>2.12</td>\n",
       "      <td>719805</td>\n",
       "      <td>723301</td>\n",
       "      <td>1.00</td>\n",
       "    </tr>\n",
       "    <tr>\n",
       "      <th>울산광역시  (3100000000)</th>\n",
       "      <td>1103752</td>\n",
       "      <td>490174</td>\n",
       "      <td>2.25</td>\n",
       "      <td>567145</td>\n",
       "      <td>536607</td>\n",
       "      <td>1.06</td>\n",
       "    </tr>\n",
       "    <tr>\n",
       "      <th>세종특별자치시  (3600000000)</th>\n",
       "      <td>386256</td>\n",
       "      <td>160764</td>\n",
       "      <td>2.40</td>\n",
       "      <td>192396</td>\n",
       "      <td>193860</td>\n",
       "      <td>0.99</td>\n",
       "    </tr>\n",
       "    <tr>\n",
       "      <th>경기도  (4100000000)</th>\n",
       "      <td>13628135</td>\n",
       "      <td>5974055</td>\n",
       "      <td>2.28</td>\n",
       "      <td>6855041</td>\n",
       "      <td>6773094</td>\n",
       "      <td>1.01</td>\n",
       "    </tr>\n",
       "    <tr>\n",
       "      <th>강원특별자치도  (5100000000)</th>\n",
       "      <td>1528635</td>\n",
       "      <td>760636</td>\n",
       "      <td>2.01</td>\n",
       "      <td>768910</td>\n",
       "      <td>759725</td>\n",
       "      <td>1.01</td>\n",
       "    </tr>\n",
       "    <tr>\n",
       "      <th>충청북도  (4300000000)</th>\n",
       "      <td>1594038</td>\n",
       "      <td>779978</td>\n",
       "      <td>2.04</td>\n",
       "      <td>810734</td>\n",
       "      <td>783304</td>\n",
       "      <td>1.04</td>\n",
       "    </tr>\n",
       "    <tr>\n",
       "      <th>충청남도  (4400000000)</th>\n",
       "      <td>2129591</td>\n",
       "      <td>1034508</td>\n",
       "      <td>2.06</td>\n",
       "      <td>1091095</td>\n",
       "      <td>1038496</td>\n",
       "      <td>1.05</td>\n",
       "    </tr>\n",
       "    <tr>\n",
       "      <th>전라북도  (4500000000)</th>\n",
       "      <td>1756183</td>\n",
       "      <td>861263</td>\n",
       "      <td>2.04</td>\n",
       "      <td>874078</td>\n",
       "      <td>882105</td>\n",
       "      <td>0.99</td>\n",
       "    </tr>\n",
       "    <tr>\n",
       "      <th>전라남도  (4600000000)</th>\n",
       "      <td>1804875</td>\n",
       "      <td>911302</td>\n",
       "      <td>1.98</td>\n",
       "      <td>909744</td>\n",
       "      <td>895131</td>\n",
       "      <td>1.02</td>\n",
       "    </tr>\n",
       "    <tr>\n",
       "      <th>경상북도  (4700000000)</th>\n",
       "      <td>2556262</td>\n",
       "      <td>1282673</td>\n",
       "      <td>1.99</td>\n",
       "      <td>1291263</td>\n",
       "      <td>1264999</td>\n",
       "      <td>1.02</td>\n",
       "    </tr>\n",
       "    <tr>\n",
       "      <th>경상남도  (4800000000)</th>\n",
       "      <td>3253619</td>\n",
       "      <td>1525337</td>\n",
       "      <td>2.13</td>\n",
       "      <td>1638128</td>\n",
       "      <td>1615491</td>\n",
       "      <td>1.01</td>\n",
       "    </tr>\n",
       "    <tr>\n",
       "      <th>제주특별자치도  (5000000000)</th>\n",
       "      <td>675845</td>\n",
       "      <td>313269</td>\n",
       "      <td>2.16</td>\n",
       "      <td>338265</td>\n",
       "      <td>337580</td>\n",
       "      <td>1.00</td>\n",
       "    </tr>\n",
       "  </tbody>\n",
       "</table>\n",
       "</div>"
      ],
      "text/plain": [
       "                       2023년11월_총인구수  2023년11월_세대수  2023년11월_세대당 인구  \\\n",
       "행정구역                                                                  \n",
       "전국  (1000000000)            51337076      23904793             2.15   \n",
       "서울특별시  (1100000000)          9390925       4469374             2.10   \n",
       "부산광역시  (2600000000)          3295496       1564199             2.11   \n",
       "대구광역시  (2700000000)          2376044       1093499             2.17   \n",
       "인천광역시  (2800000000)          2993492       1347984             2.22   \n",
       "광주광역시  (2900000000)          1420822        655552             2.17   \n",
       "대전광역시  (3000000000)          1443106        680226             2.12   \n",
       "울산광역시  (3100000000)          1103752        490174             2.25   \n",
       "세종특별자치시  (3600000000)         386256        160764             2.40   \n",
       "경기도  (4100000000)           13628135       5974055             2.28   \n",
       "강원특별자치도  (5100000000)        1528635        760636             2.01   \n",
       "충청북도  (4300000000)           1594038        779978             2.04   \n",
       "충청남도  (4400000000)           2129591       1034508             2.06   \n",
       "전라북도  (4500000000)           1756183        861263             2.04   \n",
       "전라남도  (4600000000)           1804875        911302             1.98   \n",
       "경상북도  (4700000000)           2556262       1282673             1.99   \n",
       "경상남도  (4800000000)           3253619       1525337             2.13   \n",
       "제주특별자치도  (5000000000)         675845        313269             2.16   \n",
       "\n",
       "                       2023년11월_남자 인구수  2023년11월_여자 인구수  2023년11월_남여 비율  \n",
       "행정구역                                                                     \n",
       "전국  (1000000000)              25572695         25764381            0.99  \n",
       "서울특별시  (1100000000)            4543055          4847870            0.94  \n",
       "부산광역시  (2600000000)            1606680          1688816            0.95  \n",
       "대구광역시  (2700000000)            1167480          1208564            0.97  \n",
       "인천광역시  (2800000000)            1497231          1496261            1.00  \n",
       "광주광역시  (2900000000)             701645           719177            0.98  \n",
       "대전광역시  (3000000000)             719805           723301            1.00  \n",
       "울산광역시  (3100000000)             567145           536607            1.06  \n",
       "세종특별자치시  (3600000000)           192396           193860            0.99  \n",
       "경기도  (4100000000)              6855041          6773094            1.01  \n",
       "강원특별자치도  (5100000000)           768910           759725            1.01  \n",
       "충청북도  (4300000000)              810734           783304            1.04  \n",
       "충청남도  (4400000000)             1091095          1038496            1.05  \n",
       "전라북도  (4500000000)              874078           882105            0.99  \n",
       "전라남도  (4600000000)              909744           895131            1.02  \n",
       "경상북도  (4700000000)             1291263          1264999            1.02  \n",
       "경상남도  (4800000000)             1638128          1615491            1.01  \n",
       "제주특별자치도  (5000000000)           338265           337580            1.00  "
      ]
     },
     "execution_count": 12,
     "metadata": {},
     "output_type": "execute_result"
    }
   ],
   "source": [
    "import pandas as pd\n",
    "\n",
    "pop = pd.read_csv(\"202311popmonth.csv\", encoding='cp949', index_col=0, thousands=',')\n",
    "pop"
   ]
  },
  {
   "cell_type": "code",
   "execution_count": 13,
   "metadata": {
    "colab": {
     "base_uri": "https://localhost:8080/",
     "height": 715
    },
    "executionInfo": {
     "elapsed": 444,
     "status": "ok",
     "timestamp": 1703746933579,
     "user": {
      "displayName": "강환수",
      "userId": "09996343890795599635"
     },
     "user_tz": -540
    },
    "id": "J6TKEuSpJ5Vr",
    "outputId": "9ea6a276-18e8-4153-c47b-c0dfc1275ee8"
   },
   "outputs": [
    {
     "data": {
      "text/html": [
       "<div>\n",
       "<style scoped>\n",
       "    .dataframe tbody tr th:only-of-type {\n",
       "        vertical-align: middle;\n",
       "    }\n",
       "\n",
       "    .dataframe tbody tr th {\n",
       "        vertical-align: top;\n",
       "    }\n",
       "\n",
       "    .dataframe thead th {\n",
       "        text-align: right;\n",
       "    }\n",
       "</style>\n",
       "<table border=\"1\" class=\"dataframe\">\n",
       "  <thead>\n",
       "    <tr style=\"text-align: right;\">\n",
       "      <th></th>\n",
       "      <th>총인구수</th>\n",
       "      <th>세대수</th>\n",
       "      <th>세대당인구</th>\n",
       "      <th>남자인구수</th>\n",
       "      <th>여자인구수</th>\n",
       "      <th>남여비율</th>\n",
       "    </tr>\n",
       "    <tr>\n",
       "      <th>행정구역</th>\n",
       "      <th></th>\n",
       "      <th></th>\n",
       "      <th></th>\n",
       "      <th></th>\n",
       "      <th></th>\n",
       "      <th></th>\n",
       "    </tr>\n",
       "  </thead>\n",
       "  <tbody>\n",
       "    <tr>\n",
       "      <th>전국  (1000000000)</th>\n",
       "      <td>51337076</td>\n",
       "      <td>23904793</td>\n",
       "      <td>2.15</td>\n",
       "      <td>25572695</td>\n",
       "      <td>25764381</td>\n",
       "      <td>0.99</td>\n",
       "    </tr>\n",
       "    <tr>\n",
       "      <th>서울특별시  (1100000000)</th>\n",
       "      <td>9390925</td>\n",
       "      <td>4469374</td>\n",
       "      <td>2.10</td>\n",
       "      <td>4543055</td>\n",
       "      <td>4847870</td>\n",
       "      <td>0.94</td>\n",
       "    </tr>\n",
       "    <tr>\n",
       "      <th>부산광역시  (2600000000)</th>\n",
       "      <td>3295496</td>\n",
       "      <td>1564199</td>\n",
       "      <td>2.11</td>\n",
       "      <td>1606680</td>\n",
       "      <td>1688816</td>\n",
       "      <td>0.95</td>\n",
       "    </tr>\n",
       "    <tr>\n",
       "      <th>대구광역시  (2700000000)</th>\n",
       "      <td>2376044</td>\n",
       "      <td>1093499</td>\n",
       "      <td>2.17</td>\n",
       "      <td>1167480</td>\n",
       "      <td>1208564</td>\n",
       "      <td>0.97</td>\n",
       "    </tr>\n",
       "    <tr>\n",
       "      <th>인천광역시  (2800000000)</th>\n",
       "      <td>2993492</td>\n",
       "      <td>1347984</td>\n",
       "      <td>2.22</td>\n",
       "      <td>1497231</td>\n",
       "      <td>1496261</td>\n",
       "      <td>1.00</td>\n",
       "    </tr>\n",
       "  </tbody>\n",
       "</table>\n",
       "</div>"
      ],
      "text/plain": [
       "                         총인구수       세대수  세대당인구     남자인구수     여자인구수  남여비율\n",
       "행정구역                                                                    \n",
       "전국  (1000000000)     51337076  23904793   2.15  25572695  25764381  0.99\n",
       "서울특별시  (1100000000)   9390925   4469374   2.10   4543055   4847870  0.94\n",
       "부산광역시  (2600000000)   3295496   1564199   2.11   1606680   1688816  0.95\n",
       "대구광역시  (2700000000)   2376044   1093499   2.17   1167480   1208564  0.97\n",
       "인천광역시  (2800000000)   2993492   1347984   2.22   1497231   1496261  1.00"
      ]
     },
     "execution_count": 13,
     "metadata": {},
     "output_type": "execute_result"
    }
   ],
   "source": [
    "pop.columns = ['총인구수', '세대수', '세대당인구', '남자인구수', '여자인구수', '남여비율']\n",
    "pop.head()"
   ]
  },
  {
   "cell_type": "code",
   "execution_count": 14,
   "metadata": {
    "colab": {
     "base_uri": "https://localhost:8080/",
     "height": 1000
    },
    "executionInfo": {
     "elapsed": 358,
     "status": "ok",
     "timestamp": 1703747562766,
     "user": {
      "displayName": "강환수",
      "userId": "09996343890795599635"
     },
     "user_tz": -540
    },
    "id": "GPyO5T02J5JA",
    "outputId": "550fce12-7083-4e5d-9d8c-80249c7e89a7"
   },
   "outputs": [
    {
     "data": {
      "text/html": [
       "<div>\n",
       "<style scoped>\n",
       "    .dataframe tbody tr th:only-of-type {\n",
       "        vertical-align: middle;\n",
       "    }\n",
       "\n",
       "    .dataframe tbody tr th {\n",
       "        vertical-align: top;\n",
       "    }\n",
       "\n",
       "    .dataframe thead th {\n",
       "        text-align: right;\n",
       "    }\n",
       "</style>\n",
       "<table border=\"1\" class=\"dataframe\">\n",
       "  <thead>\n",
       "    <tr style=\"text-align: right;\">\n",
       "      <th></th>\n",
       "      <th>총인구수</th>\n",
       "      <th>세대수</th>\n",
       "      <th>세대당인구</th>\n",
       "      <th>남자인구수</th>\n",
       "      <th>여자인구수</th>\n",
       "      <th>남여비율</th>\n",
       "    </tr>\n",
       "  </thead>\n",
       "  <tbody>\n",
       "    <tr>\n",
       "      <th>전국</th>\n",
       "      <td>51337076</td>\n",
       "      <td>23904793</td>\n",
       "      <td>2.15</td>\n",
       "      <td>25572695</td>\n",
       "      <td>25764381</td>\n",
       "      <td>0.99</td>\n",
       "    </tr>\n",
       "    <tr>\n",
       "      <th>서울특별시</th>\n",
       "      <td>9390925</td>\n",
       "      <td>4469374</td>\n",
       "      <td>2.10</td>\n",
       "      <td>4543055</td>\n",
       "      <td>4847870</td>\n",
       "      <td>0.94</td>\n",
       "    </tr>\n",
       "    <tr>\n",
       "      <th>부산광역시</th>\n",
       "      <td>3295496</td>\n",
       "      <td>1564199</td>\n",
       "      <td>2.11</td>\n",
       "      <td>1606680</td>\n",
       "      <td>1688816</td>\n",
       "      <td>0.95</td>\n",
       "    </tr>\n",
       "    <tr>\n",
       "      <th>대구광역시</th>\n",
       "      <td>2376044</td>\n",
       "      <td>1093499</td>\n",
       "      <td>2.17</td>\n",
       "      <td>1167480</td>\n",
       "      <td>1208564</td>\n",
       "      <td>0.97</td>\n",
       "    </tr>\n",
       "    <tr>\n",
       "      <th>인천광역시</th>\n",
       "      <td>2993492</td>\n",
       "      <td>1347984</td>\n",
       "      <td>2.22</td>\n",
       "      <td>1497231</td>\n",
       "      <td>1496261</td>\n",
       "      <td>1.00</td>\n",
       "    </tr>\n",
       "    <tr>\n",
       "      <th>광주광역시</th>\n",
       "      <td>1420822</td>\n",
       "      <td>655552</td>\n",
       "      <td>2.17</td>\n",
       "      <td>701645</td>\n",
       "      <td>719177</td>\n",
       "      <td>0.98</td>\n",
       "    </tr>\n",
       "    <tr>\n",
       "      <th>대전광역시</th>\n",
       "      <td>1443106</td>\n",
       "      <td>680226</td>\n",
       "      <td>2.12</td>\n",
       "      <td>719805</td>\n",
       "      <td>723301</td>\n",
       "      <td>1.00</td>\n",
       "    </tr>\n",
       "    <tr>\n",
       "      <th>울산광역시</th>\n",
       "      <td>1103752</td>\n",
       "      <td>490174</td>\n",
       "      <td>2.25</td>\n",
       "      <td>567145</td>\n",
       "      <td>536607</td>\n",
       "      <td>1.06</td>\n",
       "    </tr>\n",
       "    <tr>\n",
       "      <th>세종특별자치시</th>\n",
       "      <td>386256</td>\n",
       "      <td>160764</td>\n",
       "      <td>2.40</td>\n",
       "      <td>192396</td>\n",
       "      <td>193860</td>\n",
       "      <td>0.99</td>\n",
       "    </tr>\n",
       "    <tr>\n",
       "      <th>경기도</th>\n",
       "      <td>13628135</td>\n",
       "      <td>5974055</td>\n",
       "      <td>2.28</td>\n",
       "      <td>6855041</td>\n",
       "      <td>6773094</td>\n",
       "      <td>1.01</td>\n",
       "    </tr>\n",
       "    <tr>\n",
       "      <th>강원특별자치도</th>\n",
       "      <td>1528635</td>\n",
       "      <td>760636</td>\n",
       "      <td>2.01</td>\n",
       "      <td>768910</td>\n",
       "      <td>759725</td>\n",
       "      <td>1.01</td>\n",
       "    </tr>\n",
       "    <tr>\n",
       "      <th>충청북도</th>\n",
       "      <td>1594038</td>\n",
       "      <td>779978</td>\n",
       "      <td>2.04</td>\n",
       "      <td>810734</td>\n",
       "      <td>783304</td>\n",
       "      <td>1.04</td>\n",
       "    </tr>\n",
       "    <tr>\n",
       "      <th>충청남도</th>\n",
       "      <td>2129591</td>\n",
       "      <td>1034508</td>\n",
       "      <td>2.06</td>\n",
       "      <td>1091095</td>\n",
       "      <td>1038496</td>\n",
       "      <td>1.05</td>\n",
       "    </tr>\n",
       "    <tr>\n",
       "      <th>전라북도</th>\n",
       "      <td>1756183</td>\n",
       "      <td>861263</td>\n",
       "      <td>2.04</td>\n",
       "      <td>874078</td>\n",
       "      <td>882105</td>\n",
       "      <td>0.99</td>\n",
       "    </tr>\n",
       "    <tr>\n",
       "      <th>전라남도</th>\n",
       "      <td>1804875</td>\n",
       "      <td>911302</td>\n",
       "      <td>1.98</td>\n",
       "      <td>909744</td>\n",
       "      <td>895131</td>\n",
       "      <td>1.02</td>\n",
       "    </tr>\n",
       "    <tr>\n",
       "      <th>경상북도</th>\n",
       "      <td>2556262</td>\n",
       "      <td>1282673</td>\n",
       "      <td>1.99</td>\n",
       "      <td>1291263</td>\n",
       "      <td>1264999</td>\n",
       "      <td>1.02</td>\n",
       "    </tr>\n",
       "    <tr>\n",
       "      <th>경상남도</th>\n",
       "      <td>3253619</td>\n",
       "      <td>1525337</td>\n",
       "      <td>2.13</td>\n",
       "      <td>1638128</td>\n",
       "      <td>1615491</td>\n",
       "      <td>1.01</td>\n",
       "    </tr>\n",
       "    <tr>\n",
       "      <th>제주특별자치도</th>\n",
       "      <td>675845</td>\n",
       "      <td>313269</td>\n",
       "      <td>2.16</td>\n",
       "      <td>338265</td>\n",
       "      <td>337580</td>\n",
       "      <td>1.00</td>\n",
       "    </tr>\n",
       "  </tbody>\n",
       "</table>\n",
       "</div>"
      ],
      "text/plain": [
       "             총인구수       세대수  세대당인구     남자인구수     여자인구수  남여비율\n",
       "전국       51337076  23904793   2.15  25572695  25764381  0.99\n",
       "서울특별시     9390925   4469374   2.10   4543055   4847870  0.94\n",
       "부산광역시     3295496   1564199   2.11   1606680   1688816  0.95\n",
       "대구광역시     2376044   1093499   2.17   1167480   1208564  0.97\n",
       "인천광역시     2993492   1347984   2.22   1497231   1496261  1.00\n",
       "광주광역시     1420822    655552   2.17    701645    719177  0.98\n",
       "대전광역시     1443106    680226   2.12    719805    723301  1.00\n",
       "울산광역시     1103752    490174   2.25    567145    536607  1.06\n",
       "세종특별자치시    386256    160764   2.40    192396    193860  0.99\n",
       "경기도      13628135   5974055   2.28   6855041   6773094  1.01\n",
       "강원특별자치도   1528635    760636   2.01    768910    759725  1.01\n",
       "충청북도      1594038    779978   2.04    810734    783304  1.04\n",
       "충청남도      2129591   1034508   2.06   1091095   1038496  1.05\n",
       "전라북도      1756183    861263   2.04    874078    882105  0.99\n",
       "전라남도      1804875    911302   1.98    909744    895131  1.02\n",
       "경상북도      2556262   1282673   1.99   1291263   1264999  1.02\n",
       "경상남도      3253619   1525337   2.13   1638128   1615491  1.01\n",
       "제주특별자치도    675845    313269   2.16    338265    337580  1.00"
      ]
     },
     "execution_count": 14,
     "metadata": {},
     "output_type": "execute_result"
    }
   ],
   "source": [
    "pop.index = [pop.index[i].split()[0] for i in range(len(pop))]\n",
    "pop"
   ]
  },
  {
   "cell_type": "code",
   "execution_count": 16,
   "metadata": {
    "colab": {
     "base_uri": "https://localhost:8080/",
     "height": 522
    },
    "executionInfo": {
     "elapsed": 1071,
     "status": "ok",
     "timestamp": 1703748380928,
     "user": {
      "displayName": "강환수",
      "userId": "09996343890795599635"
     },
     "user_tz": -540
    },
    "id": "HN4gRLFgQoSW",
    "outputId": "074561d0-c0de-4110-aaf3-205b4dc02f9d"
   },
   "outputs": [
    {
     "data": {
      "image/png": "[encoded data removed]",
      "text/plain": [
       "<Figure size 640x480 with 1 Axes>"
      ]
     },
     "metadata": {
      "image/png": {
       "height": 511,
       "width": 553
      }
     },
     "output_type": "display_data"
    }
   ],
   "source": [
    "import matplotlib.pyplot as plt\n",
    "import seaborn as sns\n",
    "\n",
    "sns.scatterplot(pop['총인구수'])\n",
    "plt.xticks(rotation=90)\n",
    "plt.show()"
   ]
  },
  {
   "cell_type": "code",
   "execution_count": 23,
   "metadata": {
    "colab": {
     "base_uri": "https://localhost:8080/",
     "height": 522
    },
    "executionInfo": {
     "elapsed": 1056,
     "status": "ok",
     "timestamp": 1703748983147,
     "user": {
      "displayName": "강환수",
      "userId": "09996343890795599635"
     },
     "user_tz": -540
    },
    "id": "SWwXas3pTCXG",
    "outputId": "e4dbdc08-436b-4e8f-dce7-86188a2e6a9a"
   },
   "outputs": [
    {
     "data": {
      "image/png": "[encoded data removed]",
      "text/plain": [
       "<Figure size 640x480 with 1 Axes>"
      ]
     },
     "metadata": {
      "image/png": {
       "height": 531,
       "width": 553
      }
     },
     "output_type": "display_data"
    }
   ],
   "source": [
    "import matplotlib.pyplot as plt\n",
    "import seaborn as sns\n",
    "\n",
    "pop1 = pop.sort_values('총인구수');\n",
    "sns.barplot(x=pop1.index, y='총인구수', data=pop1);\n",
    "plt.xticks(rotation=90);\n",
    "plt.show()"
   ]
  }
 ],
 "metadata": {
  "colab": {
   "authorship_tag": "ABX9TyNPAVzzmKGGvRytkeiTKX/2",
   "provenance": []
  },
  "kernelspec": {
   "display_name": "Python 3",
   "name": "python3"
  },
  "language_info": {
   "codemirror_mode": {
    "name": "ipython",
    "version": 3
   },
   "file_extension": ".py",
   "mimetype": "text/x-python",
   "name": "python",
   "nbconvert_exporter": "python",
   "pygments_lexer": "ipython3",
   "version": "3.12.4"
  }
 },
 "nbformat": 4,
 "nbformat_minor": 0
}
